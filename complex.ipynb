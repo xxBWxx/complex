{
 "cells": [
  {
   "cell_type": "markdown",
   "metadata": {},
   "source": [
    "# COMPLEX - MU4IN900 - 2024/2025\n",
    "## TME des semaines 3 à 5\n",
    "---\n",
    "### TARIK EGE EKEN - 21110611\n",
    "### BARAN AÇIKEL - 2"
   ]
  },
  {
   "cell_type": "code",
   "execution_count": null,
   "metadata": {},
   "outputs": [],
   "source": [
    "import numpy as np"
   ]
  },
  {
   "cell_type": "code",
   "execution_count": null,
   "metadata": {},
   "outputs": [],
   "source": [
    "class Sac:\n",
    "    def __init__(self, maxpoids):\n",
    "        self.maxpoids = maxpoids\n",
    "        self.poidstotale = 0\n",
    "        self.valeurtotale = 0\n",
    "        self.objets = []\n",
    "\n",
    "    def addObject(self, obj):\n",
    "        self.objects.append(obj)\n",
    "        self.poidstotale += obj.poids\n",
    "        self.valeurtotale += obj.val\n",
    "\n",
    "    def reset(self):\n",
    "        self.objects = []\n",
    "        self.poidstotale = 0\n",
    "        self.valeurtotale = 0\n",
    "\n",
    "class Object:\n",
    "    def __init__(self, poids, valeur):\n",
    "        self.poids = poids\n",
    "        self.val = valeur"
   ]
  },
  {
   "cell_type": "code",
   "execution_count": null,
   "metadata": {},
   "outputs": [],
   "source": [
    "\n",
    "def rankObjects(o_list):\n",
    "    res = []\n",
    "    for i in range(len(o_list)):\n",
    "        res.append((o_list[i].val/o_list[i].poids, i))\n",
    "    return sorted(res)\n"
   ]
  },
  {
   "cell_type": "code",
   "execution_count": null,
   "metadata": {},
   "outputs": [],
   "source": []
  }
 ],
 "metadata": {
  "language_info": {
   "name": "python"
  }
 },
 "nbformat": 4,
 "nbformat_minor": 2
}
