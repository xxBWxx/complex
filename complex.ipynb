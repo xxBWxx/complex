{
 "cells": [
  {
   "cell_type": "markdown",
   "metadata": {},
   "source": [
    "# COMPLEX - MU4IN900 - 2024/2025\n",
    "\n",
    "## TME des semaines 3 à 5\n",
    "\n",
    "---\n",
    "\n",
    "### TARIK EGE EKEN - 21110611\n",
    "\n",
    "### BARAN AÇIKEL - 21112041\n"
   ]
  },
  {
   "cell_type": "code",
   "execution_count": 1,
   "metadata": {},
   "outputs": [],
   "source": [
    "import numpy as np"
   ]
  },
  {
   "cell_type": "code",
   "execution_count": 2,
   "metadata": {},
   "outputs": [],
   "source": [
    "class Object:\n",
    "    def __init__(self, weight, value):\n",
    "        self.weight = weight\n",
    "        self.val = value\n",
    "\n",
    "\n",
    "class Bag:\n",
    "    def __init__(self, max_weight):\n",
    "        self.max_weight = max_weight\n",
    "        self.total_weight = 0\n",
    "        self.total_value = 0\n",
    "        self.objects = []\n",
    "\n",
    "    def addObject(self, obj: Object):\n",
    "        self.objects.append(obj)\n",
    "        self.total_weight += obj.weight\n",
    "        self.total_value += obj.val\n",
    "\n",
    "    def reset(self):\n",
    "        self.objects = []\n",
    "        self.total_weight = 0\n",
    "        self.total_value = 0"
   ]
  },
  {
   "cell_type": "code",
   "execution_count": 9,
   "metadata": {},
   "outputs": [],
   "source": [
    "def rank_objects(obj_list: list[Object]):\n",
    "    res = []\n",
    "    for i in range(len(obj_list)):\n",
    "        res.append((obj_list[i].val / obj_list[i].weight, i))\n",
    "\n",
    "    return sorted(res, reverse=True)"
   ]
  },
  {
   "cell_type": "code",
   "execution_count": 7,
   "metadata": {},
   "outputs": [],
   "source": [
    "bag = Bag(100)\n",
    "obj_list = [\n",
    "    Object(np.random.randint(1, 20), np.random.randint(1, 100)) for _ in range(20)\n",
    "]"
   ]
  },
  {
   "cell_type": "code",
   "execution_count": 10,
   "metadata": {},
   "outputs": [
    {
     "data": {
      "text/plain": [
       "[(58.0, 16),\n",
       " (23.0, 10),\n",
       " (18.5, 0),\n",
       " (18.25, 3),\n",
       " (13.571428571428571, 13),\n",
       " (13.25, 17),\n",
       " (10.0, 9),\n",
       " (7.818181818181818, 19),\n",
       " (7.666666666666667, 15),\n",
       " (4.7894736842105265, 4),\n",
       " (4.5, 1),\n",
       " (4.388888888888889, 8),\n",
       " (4.0, 7),\n",
       " (2.736842105263158, 11),\n",
       " (2.2222222222222223, 14),\n",
       " (1.5263157894736843, 2),\n",
       " (1.4545454545454546, 18),\n",
       " (1.3125, 5),\n",
       " (1.1428571428571428, 6),\n",
       " (0.4444444444444444, 12)]"
      ]
     },
     "execution_count": 10,
     "metadata": {},
     "output_type": "execute_result"
    }
   ],
   "source": [
    "rank_objects(obj_list)"
   ]
  },
  {
   "cell_type": "code",
   "execution_count": 13,
   "metadata": {},
   "outputs": [
    {
     "data": {
      "text/plain": [
       "1"
      ]
     },
     "execution_count": 13,
     "metadata": {},
     "output_type": "execute_result"
    }
   ],
   "source": [
    "obj_list[16].weight"
   ]
  }
 ],
 "metadata": {
  "kernelspec": {
   "display_name": ".venv",
   "language": "python",
   "name": "python3"
  },
  "language_info": {
   "codemirror_mode": {
    "name": "ipython",
    "version": 3
   },
   "file_extension": ".py",
   "mimetype": "text/x-python",
   "name": "python",
   "nbconvert_exporter": "python",
   "pygments_lexer": "ipython3",
   "version": "3.12.4"
  }
 },
 "nbformat": 4,
 "nbformat_minor": 2
}
